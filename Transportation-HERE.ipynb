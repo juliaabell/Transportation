{
 "cells": [
  {
   "cell_type": "code",
   "execution_count": 16,
   "metadata": {},
   "outputs": [
    {
     "name": "stdout",
     "output_type": "stream",
     "text": [
      "done\n"
     ]
    }
   ],
   "source": [
    "import geopandas as gpd\n",
    "import os\n",
    "import numpy\n",
    "import pandas\n",
    "\n",
    "\n",
    "HERE=\"C:\\\\Users\\\\jbell129\\\\Documents\\\\Transportation\\\\MXD\\\\I270_HERE.shp\"\n",
    "trajectories=os.listdir(\"C:\\\\Users\\\\jbell129\\\\Documents\\\\june-recon-traj_new\")\n",
    "\n",
    "df=gpd.read_file(HERE)\n",
    "print \"done\"\n"
   ]
  },
  {
   "cell_type": "code",
   "execution_count": 19,
   "metadata": {},
   "outputs": [
    {
     "name": "stdout",
     "output_type": "stream",
     "text": [
      "june-0_tr.txt\n",
      "june-100_tr.txt\n",
      "june-101_tr.txt\n",
      "june-102_tr.txt\n",
      "june-103_tr.txt\n",
      "june-104_tr.txt\n",
      "june-105_tr.txt\n",
      "june-106_tr.txt\n",
      "june-107_tr.txt\n",
      "june-108_tr.txt\n",
      "june-109_tr.txt\n",
      "june-10_tr.txt\n",
      "june-110_tr.txt\n",
      "june-111_tr.txt\n",
      "june-112_tr.txt\n",
      "june-113_tr.txt\n",
      "june-114_tr.txt\n",
      "june-115_tr.txt\n",
      "june-116_tr.txt\n",
      "june-117_tr.txt\n",
      "june-118_tr.txt\n",
      "june-119_tr.txt\n",
      "june-11_tr.txt\n",
      "june-120_tr.txt\n",
      "june-121_tr.txt\n",
      "june-122_tr.txt\n",
      "june-123_tr.txt\n",
      "june-124_tr.txt\n",
      "june-125_tr.txt\n",
      "june-126_tr.txt\n",
      "june-127_tr.txt\n",
      "june-128_tr.txt\n",
      "june-129_tr.txt\n",
      "june-12_tr.txt\n",
      "june-130_tr.txt\n",
      "june-131_tr.txt\n",
      "june-132_tr.txt\n",
      "june-133_tr.txt\n",
      "june-134_tr.txt\n",
      "june-135_tr.txt\n",
      "june-136_tr.txt\n",
      "june-137_tr.txt\n",
      "june-138_tr.txt\n",
      "june-139_tr.txt\n",
      "june-13_tr.txt\n",
      "june-140_tr.txt\n",
      "june-141_tr.txt\n",
      "june-142_tr.txt\n",
      "june-143_tr.txt\n",
      "june-144_tr.txt\n",
      "june-145_tr.txt\n",
      "june-146_tr.txt\n",
      "june-147_tr.txt\n",
      "june-148_tr.txt\n",
      "june-149_tr.txt\n",
      "june-14_tr.txt\n",
      "june-150_tr.txt\n",
      "june-151_tr.txt\n",
      "june-152_tr.txt\n",
      "june-15_tr.txt\n",
      "june-16_tr.txt\n",
      "june-17_tr.txt\n",
      "june-18_tr.txt\n",
      "june-19_tr.txt\n",
      "june-1_tr.txt\n",
      "june-20_tr.txt\n",
      "june-21_tr.txt\n",
      "june-22_tr.txt\n",
      "june-23_tr.txt\n",
      "june-24_tr.txt\n",
      "june-25_tr.txt\n",
      "june-26_tr.txt\n",
      "june-27_tr.txt\n",
      "june-28_tr.txt\n",
      "june-29_tr.txt\n",
      "june-2_tr.txt\n",
      "june-30_tr.txt\n",
      "june-31_tr.txt\n",
      "june-32_tr.txt\n",
      "june-33_tr.txt\n",
      "june-34_tr.txt\n",
      "june-35_tr.txt\n",
      "june-36_tr.txt\n",
      "june-37_tr.txt\n",
      "june-38_tr.txt\n",
      "june-39_tr.txt\n",
      "june-3_tr.txt\n",
      "june-40_tr.txt\n",
      "june-41_tr.txt\n",
      "june-42_tr.txt\n",
      "june-43_tr.txt\n",
      "june-44_tr.txt\n",
      "june-45_tr.txt\n",
      "june-46_tr.txt\n",
      "june-47_tr.txt\n",
      "june-48_tr.txt\n",
      "june-49_tr.txt\n",
      "june-4_tr.txt\n",
      "june-50_tr.txt\n",
      "june-51_tr.txt\n",
      "june-52_tr.txt\n",
      "june-53_tr.txt\n",
      "june-54_tr.txt\n",
      "june-55_tr.txt\n",
      "june-56_tr.txt\n",
      "june-57_tr.txt\n",
      "june-58_tr.txt\n",
      "june-59_tr.txt\n",
      "june-5_tr.txt\n",
      "june-60_tr.txt\n",
      "june-61_tr.txt\n",
      "june-62_tr.txt\n",
      "june-63_tr.txt\n",
      "june-64_tr.txt\n",
      "june-65_tr.txt\n",
      "june-66_tr.txt\n",
      "june-67_tr.txt\n",
      "june-68_tr.txt\n",
      "june-69_tr.txt\n",
      "june-6_tr.txt\n",
      "june-70_tr.txt\n",
      "june-71_tr.txt\n",
      "june-72_tr.txt\n",
      "june-73_tr.txt\n",
      "june-74_tr.txt\n",
      "june-75_tr.txt\n",
      "june-76_tr.txt\n",
      "june-77_tr.txt\n",
      "june-78_tr.txt\n",
      "june-79_tr.txt\n",
      "june-7_tr.txt\n",
      "june-80_tr.txt\n",
      "june-81_tr.txt\n",
      "june-82_tr.txt\n",
      "june-83_tr.txt\n",
      "june-84_tr.txt\n",
      "june-85_tr.txt\n",
      "june-86_tr.txt\n",
      "june-87_tr.txt\n",
      "june-88_tr.txt\n",
      "june-89_tr.txt\n",
      "june-8_tr.txt\n",
      "june-90_tr.txt\n",
      "june-91_tr.txt\n",
      "june-92_tr.txt\n",
      "june-93_tr.txt\n",
      "june-94_tr.txt\n",
      "june-95_tr.txt\n",
      "june-96_tr.txt\n",
      "june-97_tr.txt\n",
      "june-98_tr.txt\n",
      "june-99_tr.txt\n",
      "june-9_tr.txt\n"
     ]
    }
   ],
   "source": [
    "for files in trajectories:\n",
    "    data=pandas.read_csv(\"C:\\\\Users\\\\jbell129\\\\Documents\\\\june-recon-traj_new\\\\{}\".format(files),sep=\",\", skiprows=1, header=None)\n",
    "    data.columns=[\"Trip_ID\", \"Zero\",\"Link_ID\"]\n",
    "    \n",
    "    #print data\n",
    "    Joined = df.merge(data, on='Link_ID')\n",
    "    print files"
   ]
  },
  {
   "cell_type": "code",
   "execution_count": 25,
   "metadata": {},
   "outputs": [
    {
     "name": "stdout",
     "output_type": "stream",
     "text": [
      "done\n"
     ]
    }
   ],
   "source": [
    "Joined.to_file('HERE1.shp', driver='ESRI Shapefile')\n",
    "print \"done\""
   ]
  },
  {
   "cell_type": "code",
   "execution_count": 22,
   "metadata": {},
   "outputs": [
    {
     "data": {
      "text/plain": [
       "'C:\\\\Users\\\\jbell129'"
      ]
     },
     "execution_count": 22,
     "metadata": {},
     "output_type": "execute_result"
    }
   ],
   "source": [
    "cwd = os.getcwd()\n",
    "cwd"
   ]
  },
  {
   "cell_type": "code",
   "execution_count": null,
   "metadata": {},
   "outputs": [],
   "source": []
  }
 ],
 "metadata": {
  "kernelspec": {
   "display_name": "Python 2",
   "language": "python",
   "name": "python2"
  },
  "language_info": {
   "codemirror_mode": {
    "name": "ipython",
    "version": 2
   },
   "file_extension": ".py",
   "mimetype": "text/x-python",
   "name": "python",
   "nbconvert_exporter": "python",
   "pygments_lexer": "ipython2",
   "version": "2.7.14"
  }
 },
 "nbformat": 4,
 "nbformat_minor": 2
}
