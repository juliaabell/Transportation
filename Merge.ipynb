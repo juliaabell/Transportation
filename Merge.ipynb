{
 "cells": [
  {
   "cell_type": "code",
   "execution_count": 5,
   "metadata": {},
   "outputs": [],
   "source": [
    "import csv\n",
    "import pandas\n",
    "waypoints = \"C:\\\\Users\\\\jbell129\\\\Documents\\\\Transportation\\Merge\\\\TripRecordsReportWaypoints.csv\"\n",
    "tripHeader = \"C://Users//jbell129//Documents//Transportation/Merge/TripRecordsReportTripsHeaders.csv\"\n",
    "trips=\"C://Users//jbell129//Documents//Transportation/Merge/TripRecordsReportTrips.csv\"\n",
    "Here=\"C:/Users/jbell129/Documents/Transportation/Merge/HERE_Trip_ID.shp\"\n"
   ]
  },
  {
   "cell_type": "code",
   "execution_count": 4,
   "metadata": {},
   "outputs": [
    {
     "ename": "TypeError",
     "evalue": "coercing to Unicode: need string or buffer, type found",
     "output_type": "error",
     "traceback": [
      "\u001b[1;31m---------------------------------------------------------------------------\u001b[0m",
      "\u001b[1;31mTypeError\u001b[0m                                 Traceback (most recent call last)",
      "\u001b[1;32m<ipython-input-4-6816c510a064>\u001b[0m in \u001b[0;36m<module>\u001b[1;34m()\u001b[0m\n\u001b[1;32m----> 1\u001b[1;33m \u001b[1;32mwith\u001b[0m \u001b[0mopen\u001b[0m\u001b[1;33m(\u001b[0m\u001b[0mfile\u001b[0m\u001b[1;33m,\u001b[0m \u001b[1;34m'r'\u001b[0m\u001b[1;33m)\u001b[0m \u001b[1;32mas\u001b[0m \u001b[0mjunef\u001b[0m\u001b[1;33m:\u001b[0m\u001b[1;33m\u001b[0m\u001b[0m\n\u001b[0m\u001b[0;32m      2\u001b[0m     \u001b[0mcsvreader\u001b[0m\u001b[1;33m=\u001b[0m\u001b[0mcsv\u001b[0m\u001b[1;33m.\u001b[0m\u001b[0mreader\u001b[0m\u001b[1;33m(\u001b[0m\u001b[0mjunef\u001b[0m\u001b[1;33m)\u001b[0m\u001b[1;33m\u001b[0m\u001b[0m\n\u001b[0;32m      3\u001b[0m     \u001b[1;32mfor\u001b[0m \u001b[0mline\u001b[0m \u001b[1;32min\u001b[0m \u001b[0mcsvreader\u001b[0m\u001b[1;33m:\u001b[0m\u001b[1;33m\u001b[0m\u001b[0m\n\u001b[0;32m      4\u001b[0m         \u001b[1;32mprint\u001b[0m \u001b[0mline\u001b[0m\u001b[1;33m\u001b[0m\u001b[0m\n\u001b[0;32m      5\u001b[0m         \u001b[1;32mbreak\u001b[0m\u001b[1;33m\u001b[0m\u001b[0m\n",
      "\u001b[1;31mTypeError\u001b[0m: coercing to Unicode: need string or buffer, type found"
     ]
    }
   ],
   "source": [
    "with open(file, 'r') as junef:\n",
    "    csvreader=csv.reader(junef)\n",
    "    for line in csvreader:\n",
    "        print line\n",
    "        break"
   ]
  },
  {
   "cell_type": "code",
   "execution_count": 20,
   "metadata": {},
   "outputs": [
    {
     "name": "stdout",
     "output_type": "stream",
     "text": [
      "['TripId', 'DeviceId', 'ProviderId', 'Mode', 'StartDate', 'StartWDay', 'EndDate', 'EndWDay', 'StartLocLat', 'StartLocLon', 'EndLocLat', 'EndLocLon', 'IsStartHome', 'IsEndHome', 'GeospatialType', 'ProviderType', 'ProviderDrivingProfile', 'VehicleWeightClass', 'FirstZoneName', 'LastZoneName', 'MultipleZones', 'MultipleCorridors']\n"
     ]
    }
   ],
   "source": [
    "with open(tripHeader, 'r') as junef:\n",
    "    csvreader=csv.reader(junef)\n",
    "    for line in csvreader:\n",
    "        print line\n",
    "        break"
   ]
  },
  {
   "cell_type": "code",
   "execution_count": 6,
   "metadata": {},
   "outputs": [],
   "source": [
    "test=pandas.read_csv(trips)\n",
    "\n",
    "    "
   ]
  },
  {
   "cell_type": "code",
   "execution_count": 7,
   "metadata": {},
   "outputs": [
    {
     "data": {
      "text/html": [
       "<div>\n",
       "<style scoped>\n",
       "    .dataframe tbody tr th:only-of-type {\n",
       "        vertical-align: middle;\n",
       "    }\n",
       "\n",
       "    .dataframe tbody tr th {\n",
       "        vertical-align: top;\n",
       "    }\n",
       "\n",
       "    .dataframe thead th {\n",
       "        text-align: right;\n",
       "    }\n",
       "</style>\n",
       "<table border=\"1\" class=\"dataframe\">\n",
       "  <thead>\n",
       "    <tr style=\"text-align: right;\">\n",
       "      <th></th>\n",
       "      <th>Trip_ID</th>\n",
       "      <th>DeviceId</th>\n",
       "      <th>ProviderId</th>\n",
       "      <th>Mode</th>\n",
       "      <th>StartDate</th>\n",
       "      <th>StartWDay</th>\n",
       "      <th>EndDate</th>\n",
       "      <th>EndWDay</th>\n",
       "      <th>StartLocLat</th>\n",
       "      <th>StartLocLon</th>\n",
       "      <th>...</th>\n",
       "      <th>IsStartHome</th>\n",
       "      <th>IsEndHome</th>\n",
       "      <th>GeospatialType</th>\n",
       "      <th>ProviderType</th>\n",
       "      <th>ProviderDrivingProfile</th>\n",
       "      <th>VehicleWeightClass</th>\n",
       "      <th>FirstZoneName</th>\n",
       "      <th>LastZoneName</th>\n",
       "      <th>MultipleZones</th>\n",
       "      <th>MultipleCorridors</th>\n",
       "    </tr>\n",
       "  </thead>\n",
       "  <tbody>\n",
       "    <tr>\n",
       "      <th>0</th>\n",
       "      <td>e1d70066019e3110f1a74f8d3dc9c657</td>\n",
       "      <td>ffeaa468723085f843cbd8c89e0b6a35</td>\n",
       "      <td>54229abfcfa5649e7003b83dd4755294</td>\n",
       "      <td>1</td>\n",
       "      <td>2015-06-01T13:54:34.000Z</td>\n",
       "      <td>1</td>\n",
       "      <td>2015-06-01T14:45:09.000Z</td>\n",
       "      <td>1</td>\n",
       "      <td>39.1566</td>\n",
       "      <td>-76.7792</td>\n",
       "      <td>...</td>\n",
       "      <td>False</td>\n",
       "      <td>False</td>\n",
       "      <td>II</td>\n",
       "      <td>2</td>\n",
       "      <td>3</td>\n",
       "      <td>2</td>\n",
       "      <td>NaN</td>\n",
       "      <td>NaN</td>\n",
       "      <td>NaN</td>\n",
       "      <td>NaN</td>\n",
       "    </tr>\n",
       "  </tbody>\n",
       "</table>\n",
       "<p>1 rows × 22 columns</p>\n",
       "</div>"
      ],
      "text/plain": [
       "                            Trip_ID                          DeviceId  \\\n",
       "0  e1d70066019e3110f1a74f8d3dc9c657  ffeaa468723085f843cbd8c89e0b6a35   \n",
       "\n",
       "                         ProviderId  Mode                 StartDate  \\\n",
       "0  54229abfcfa5649e7003b83dd4755294     1  2015-06-01T13:54:34.000Z   \n",
       "\n",
       "   StartWDay                   EndDate  EndWDay  StartLocLat  StartLocLon  \\\n",
       "0          1  2015-06-01T14:45:09.000Z        1      39.1566     -76.7792   \n",
       "\n",
       "         ...          IsStartHome  IsEndHome  GeospatialType  ProviderType  \\\n",
       "0        ...                False      False              II             2   \n",
       "\n",
       "  ProviderDrivingProfile  VehicleWeightClass  FirstZoneName  LastZoneName  \\\n",
       "0                      3                   2            NaN           NaN   \n",
       "\n",
       "   MultipleZones  MultipleCorridors  \n",
       "0            NaN                NaN  \n",
       "\n",
       "[1 rows x 22 columns]"
      ]
     },
     "execution_count": 7,
     "metadata": {},
     "output_type": "execute_result"
    }
   ],
   "source": [
    "test.columns=['Trip_ID', 'DeviceId', 'ProviderId', 'Mode', 'StartDate', 'StartWDay', 'EndDate', 'EndWDay', 'StartLocLat', 'StartLocLon', 'EndLocLat', 'EndLocLon', 'IsStartHome', 'IsEndHome', 'GeospatialType', 'ProviderType', 'ProviderDrivingProfile', 'VehicleWeightClass', 'FirstZoneName', 'LastZoneName', 'MultipleZones', 'MultipleCorridors']\n",
    "test.head(1)"
   ]
  },
  {
   "cell_type": "code",
   "execution_count": 8,
   "metadata": {},
   "outputs": [],
   "source": [
    "import geopandas as gpd"
   ]
  },
  {
   "cell_type": "code",
   "execution_count": 9,
   "metadata": {},
   "outputs": [],
   "source": [
    "df=gpd.read_file(Here)"
   ]
  },
  {
   "cell_type": "code",
   "execution_count": 10,
   "metadata": {},
   "outputs": [],
   "source": [
    "Joined = df.merge(test, on='Trip_ID')\n",
    "\n"
   ]
  },
  {
   "cell_type": "code",
   "execution_count": 11,
   "metadata": {},
   "outputs": [],
   "source": [
    "#Joined.to_file('TripId.shp', driver='ESRI Shapefile')\n",
    "Joined['IsStartHome'] = Joined['IsStartHome'].astype('int')\n",
    "Joined['IsEndHome'] = Joined['IsEndHome'].astype('int')"
   ]
  },
  {
   "cell_type": "code",
   "execution_count": 47,
   "metadata": {},
   "outputs": [
    {
     "name": "stdout",
     "output_type": "stream",
     "text": [
      "DOne\n"
     ]
    }
   ],
   "source": [
    "Joined.to_file('TripId.shp', driver='ESRI Shapefile')\n",
    "print \"DOne\"\n"
   ]
  },
  {
   "cell_type": "code",
   "execution_count": 16,
   "metadata": {},
   "outputs": [],
   "source": [
    "Joined.to_file('TripId.json', driver='GeoJSON')"
   ]
  },
  {
   "cell_type": "code",
   "execution_count": 15,
   "metadata": {},
   "outputs": [
    {
     "data": {
      "text/plain": [
       "{'ARCGEN': 'r',\n",
       " 'AeronavFAA': 'r',\n",
       " 'BNA': 'raw',\n",
       " 'DGN': 'raw',\n",
       " 'DXF': 'raw',\n",
       " 'ESRI Shapefile': 'raw',\n",
       " 'GPKG': 'rw',\n",
       " 'GPSTrackMaker': 'raw',\n",
       " 'GPX': 'raw',\n",
       " 'GeoJSON': 'rw',\n",
       " 'Idrisi': 'r',\n",
       " 'MapInfo File': 'raw',\n",
       " 'OpenFileGDB': 'r',\n",
       " 'PCIDSK': 'r',\n",
       " 'SEGY': 'r',\n",
       " 'SUA': 'r'}"
      ]
     },
     "execution_count": 15,
     "metadata": {},
     "output_type": "execute_result"
    }
   ],
   "source": [
    "fiona.supported_drivers"
   ]
  },
  {
   "cell_type": "code",
   "execution_count": 17,
   "metadata": {},
   "outputs": [],
   "source": [
    "import os"
   ]
  },
  {
   "cell_type": "code",
   "execution_count": 18,
   "metadata": {},
   "outputs": [
    {
     "data": {
      "text/plain": [
       "'C:\\\\Users\\\\jbell129'"
      ]
     },
     "execution_count": 18,
     "metadata": {},
     "output_type": "execute_result"
    }
   ],
   "source": [
    "os.getcwd()"
   ]
  },
  {
   "cell_type": "code",
   "execution_count": 19,
   "metadata": {},
   "outputs": [
    {
     "ename": "SyntaxError",
     "evalue": "invalid syntax (<ipython-input-19-25a4753277cc>, line 1)",
     "output_type": "error",
     "traceback": [
      "\u001b[1;36m  File \u001b[1;32m\"<ipython-input-19-25a4753277cc>\"\u001b[1;36m, line \u001b[1;32m1\u001b[0m\n\u001b[1;33m    ogr2ogr -F \"ESRI Shapefile\" filename.shp geojsonfile.json OGRGeoJSON\u001b[0m\n\u001b[1;37m                              ^\u001b[0m\n\u001b[1;31mSyntaxError\u001b[0m\u001b[1;31m:\u001b[0m invalid syntax\n"
     ]
    }
   ],
   "source": [
    "ogr2ogr -F \"ESRI Shapefile\" filename.shp geojsonfile.json OGRGeoJSON"
   ]
  },
  {
   "cell_type": "code",
   "execution_count": null,
   "metadata": {},
   "outputs": [],
   "source": []
  }
 ],
 "metadata": {
  "kernelspec": {
   "display_name": "Python 2",
   "language": "python",
   "name": "python2"
  },
  "language_info": {
   "codemirror_mode": {
    "name": "ipython",
    "version": 2
   },
   "file_extension": ".py",
   "mimetype": "text/x-python",
   "name": "python",
   "nbconvert_exporter": "python",
   "pygments_lexer": "ipython2",
   "version": "2.7.14"
  }
 },
 "nbformat": 4,
 "nbformat_minor": 2
}
